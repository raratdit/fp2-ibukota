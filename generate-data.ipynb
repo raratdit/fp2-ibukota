{
 "cells": [
  {
   "cell_type": "code",
   "execution_count": null,
   "metadata": {},
   "outputs": [
    {
     "name": "stdout",
     "output_type": "stream",
     "text": [
      "  Provinsi  Tahun  Jumlah Penduduk (juta)\n",
      "0     Aceh   2015                    6.24\n",
      "1     Aceh   2016                    7.40\n",
      "2     Aceh   2017                    8.28\n",
      "3     Aceh   2018                    8.94\n",
      "4     Aceh   2019                    8.47\n",
      "5     Aceh   2020                    8.02\n",
      "6     Aceh   2021                    7.36\n",
      "7     Aceh   2022                    8.53\n",
      "8     Aceh   2023                    9.22\n",
      "9     Aceh   2024                   10.25\n"
     ]
    }
   ],
   "source": [
    "import pandas as pd\n",
    "import numpy as np\n",
    "\n",
    "# Daftar 38 provinsi di Indonesia\n",
    "provinsi = [\n",
    "    \"Aceh\", \"Sumatera Utara\", \"Sumatera Barat\", \"Riau\", \"Kepulauan Riau\",\n",
    "    \"Jambi\", \"Sumatera Selatan\", \"Bangka Belitung\", \"Bengkulu\", \"Lampung\",\n",
    "    \"DKI Jakarta\", \"Jawa Barat\", \"Banten\", \"Jawa Tengah\", \"DI Yogyakarta\", \"Jawa Timur\",\n",
    "    \"Bali\", \"Nusa Tenggara Barat\", \"Nusa Tenggara Timur\", \"Kalimantan Barat\", \"Kalimantan Tengah\",\n",
    "    \"Kalimantan Selatan\", \"Kalimantan Timur\", \"Kalimantan Utara\",\n",
    "    \"Sulawesi Utara\", \"Gorontalo\", \"Sulawesi Tengah\", \"Sulawesi Barat\", \"Sulawesi Selatan\", \"Sulawesi Tenggara\",\n",
    "    \"Maluku\", \"Maluku Utara\", \"Papua\", \"Papua Barat\", \"Papua Pegunungan\", \"Papua Tengah\", \"Papua Selatan\", \"Papua Barat Daya\"\n",
    "]\n",
    "\n",
    "tahun = list(range(2015, 2025))\n",
    "\n",
    "# Buat data dummy dengan fluktuasi\n",
    "np.random.seed(42)\n",
    "data = []\n",
    "\n",
    "for prov in provinsi:\n",
    "    jumlah = np.random.uniform(1, 15)  # populasi awal\n",
    "    for t in tahun:\n",
    "        data.append({\n",
    "            \"Provinsi\": prov,\n",
    "            \"Tahun\": t,\n",
    "            \"Jumlah Penduduk (juta)\": round(jumlah, 2)\n",
    "        })\n",
    "        # Simulasikan perubahan antara -1% hingga +2%\n",
    "        growth = np.random.uniform(-0.1, 0.2)\n",
    "        jumlah *= (1 + growth)\n",
    "\n",
    "# Buat DataFrame\n",
    "df = pd.DataFrame(data)\n",
    "\n",
    "# Contoh hasil\n",
    "print(df[df[\"Provinsi\"] == \"Aceh\"])\n"
   ]
  },
  {
   "cell_type": "code",
   "execution_count": 6,
   "metadata": {},
   "outputs": [],
   "source": [
    "df.to_csv(\"assets/data_penduduk_indonesia.csv\", index=False)"
   ]
  },
  {
   "cell_type": "code",
   "execution_count": 8,
   "metadata": {},
   "outputs": [
    {
     "data": {
      "text/html": [
       "<div>\n",
       "<style scoped>\n",
       "    .dataframe tbody tr th:only-of-type {\n",
       "        vertical-align: middle;\n",
       "    }\n",
       "\n",
       "    .dataframe tbody tr th {\n",
       "        vertical-align: top;\n",
       "    }\n",
       "\n",
       "    .dataframe thead th {\n",
       "        text-align: right;\n",
       "    }\n",
       "</style>\n",
       "<table border=\"1\" class=\"dataframe\">\n",
       "  <thead>\n",
       "    <tr style=\"text-align: right;\">\n",
       "      <th></th>\n",
       "      <th>Provinsi</th>\n",
       "      <th>Tahun</th>\n",
       "      <th>Jumlah Penduduk (juta)</th>\n",
       "    </tr>\n",
       "  </thead>\n",
       "  <tbody>\n",
       "    <tr>\n",
       "      <th>110</th>\n",
       "      <td>Jawa Barat</td>\n",
       "      <td>2015</td>\n",
       "      <td>13.55</td>\n",
       "    </tr>\n",
       "    <tr>\n",
       "      <th>111</th>\n",
       "      <td>Jawa Barat</td>\n",
       "      <td>2016</td>\n",
       "      <td>13.48</td>\n",
       "    </tr>\n",
       "    <tr>\n",
       "      <th>112</th>\n",
       "      <td>Jawa Barat</td>\n",
       "      <td>2017</td>\n",
       "      <td>12.58</td>\n",
       "    </tr>\n",
       "    <tr>\n",
       "      <th>113</th>\n",
       "      <td>Jawa Barat</td>\n",
       "      <td>2018</td>\n",
       "      <td>12.18</td>\n",
       "    </tr>\n",
       "    <tr>\n",
       "      <th>114</th>\n",
       "      <td>Jawa Barat</td>\n",
       "      <td>2019</td>\n",
       "      <td>12.52</td>\n",
       "    </tr>\n",
       "    <tr>\n",
       "      <th>115</th>\n",
       "      <td>Jawa Barat</td>\n",
       "      <td>2020</td>\n",
       "      <td>14.35</td>\n",
       "    </tr>\n",
       "    <tr>\n",
       "      <th>116</th>\n",
       "      <td>Jawa Barat</td>\n",
       "      <td>2021</td>\n",
       "      <td>16.62</td>\n",
       "    </tr>\n",
       "    <tr>\n",
       "      <th>117</th>\n",
       "      <td>Jawa Barat</td>\n",
       "      <td>2022</td>\n",
       "      <td>14.99</td>\n",
       "    </tr>\n",
       "    <tr>\n",
       "      <th>118</th>\n",
       "      <td>Jawa Barat</td>\n",
       "      <td>2023</td>\n",
       "      <td>15.79</td>\n",
       "    </tr>\n",
       "    <tr>\n",
       "      <th>119</th>\n",
       "      <td>Jawa Barat</td>\n",
       "      <td>2024</td>\n",
       "      <td>16.18</td>\n",
       "    </tr>\n",
       "  </tbody>\n",
       "</table>\n",
       "</div>"
      ],
      "text/plain": [
       "       Provinsi  Tahun  Jumlah Penduduk (juta)\n",
       "110  Jawa Barat   2015                   13.55\n",
       "111  Jawa Barat   2016                   13.48\n",
       "112  Jawa Barat   2017                   12.58\n",
       "113  Jawa Barat   2018                   12.18\n",
       "114  Jawa Barat   2019                   12.52\n",
       "115  Jawa Barat   2020                   14.35\n",
       "116  Jawa Barat   2021                   16.62\n",
       "117  Jawa Barat   2022                   14.99\n",
       "118  Jawa Barat   2023                   15.79\n",
       "119  Jawa Barat   2024                   16.18"
      ]
     },
     "execution_count": 8,
     "metadata": {},
     "output_type": "execute_result"
    }
   ],
   "source": [
    "\n",
    "# Query 1: Filter berdasarkan Provinsi tertentu, misal \"Jawa Barat\"\n",
    "df_jabar = df.query('Provinsi == \"Jawa Barat\"')\n",
    "df_jabar"
   ]
  },
  {
   "cell_type": "code",
   "execution_count": null,
   "metadata": {},
   "outputs": [],
   "source": [
    "\n",
    "# Query 2: Filter berdasarkan Tahun tertentu, misal tahun 2020\n",
    "df_2020 = df.query('Tahun == 2020')\n",
    "\n",
    "# Query 3: Filter berdasarkan Jumlah Penduduk lebih dari 5 juta\n",
    "df_besar = df.query('`Jumlah Penduduk (juta)` > 5')\n",
    "\n",
    "# Query 4: Filter berdasarkan Provinsi dan Tahun sekaligus\n",
    "df_jabar_2020 = df.query('Provinsi == \"Jawa Barat\" and Tahun == 2020')"
   ]
  },
  {
   "cell_type": "code",
   "execution_count": null,
   "metadata": {},
   "outputs": [],
   "source": [
    "import os\n",
    "import pandas as pd\n",
    "\n",
    "data_path = \"assets/data_penduduk_indonesia.csv\"\n",
    "df = pd.read_csv(data_path) if os.path.exists(data_path) else None\n",
    "\n",
    "if df is not None:\n",
    "    selected_columns = [\"Provinsi\", \"Tahun\", \"Jumlah Penduduk (juta)\"]\n",
    "    df_selected = df[selected_columns]\n",
    "    \n",
    "    data_string = \"\\n\".join([\n",
    "        f\"Provinsi:{row[0]}|Tahun:{row[1]}|penduduk:{row[2]}\"\n",
    "        for row in df_selected.values\n",
    "    ])\n",
    "else:\n",
    "    data_string = \"\"\n"
   ]
  },
  {
   "cell_type": "code",
   "execution_count": 15,
   "metadata": {},
   "outputs": [
    {
     "data": {
      "text/plain": [
       "'Provinsi:Aceh|Tahun:2015|Jumlah:6.24\\nProvinsi:Aceh|Tahun:2016|Jumlah:7.4\\nProvinsi:Aceh|Tahun:2017|Jumlah:8.28\\nProvinsi:Aceh|Tahun:2018|Jumlah:8.94\\nProvinsi:Aceh|Tahun:2019|Jumlah:8.47\\nProvinsi:Aceh|Tahun:2020|Jumlah:8.02\\nProvinsi:Aceh|Tahun:2021|Jumlah:7.36\\nProvinsi:Aceh|Tahun:2022|Jumlah:8.53\\nProvinsi:Aceh|Tahun:2023|Jumlah:9.22\\nProvinsi:Aceh|Tahun:2024|Jumlah:10.25\\nProvinsi:Sumatera Utara|Tahun:2015|Jumlah:14.58\\nProvinsi:Sumatera Utara|Tahun:2016|Jumlah:16.76\\nProvinsi:Sumatera Utara|Tahun:2017|Jumlah:16.15\\nProvinsi:Sumatera Utara|Tahun:2018|Jumlah:15.42\\nProvinsi:Sumatera Utara|Tahun:2019|Jumlah:14.73\\nProvinsi:Sumatera Utara|Tahun:2020|Jumlah:14.6\\nProvinsi:Sumatera Utara|Tahun:2021|Jumlah:15.44\\nProvinsi:Sumatera Utara|Tahun:2022|Jumlah:15.89\\nProvinsi:Sumatera Utara|Tahun:2023|Jumlah:15.69\\nProvinsi:Sumatera Utara|Tahun:2024|Jumlah:17.0\\nProvinsi:Sumatera Barat|Tahun:2015|Jumlah:5.09\\nProvinsi:Sumatera Barat|Tahun:2016|Jumlah:5.14\\nProvinsi:Sumatera Barat|Tahun:2017|Jumlah:5.33\\nProvinsi:Sumatera Barat|Tahun:2018|Jumlah:6.05\\nProvinsi:Sumatera Barat|Tahun:2019|Jumlah:5.81\\nProvinsi:Sumatera Barat|Tahun:2020|Jumlah:6.12\\nProvinsi:Sumatera Barat|Tahun:2021|Jumlah:6.6\\nProvinsi:Sumatera Barat|Tahun:2022|Jumlah:6.03\\nProvinsi:Sumatera Barat|Tahun:2023|Jumlah:6.53\\nProvinsi:Sumatera Barat|Tahun:2024|Jumlah:6.21\\nProvinsi:Riau|Tahun:2015|Jumlah:14.28\\nProvinsi:Riau|Tahun:2016|Jumlah:16.99\\nProvinsi:Riau|Tahun:2017|Jumlah:19.42\\nProvinsi:Riau|Tahun:2018|Jumlah:19.25\\nProvinsi:Riau|Tahun:2019|Jumlah:17.89\\nProvinsi:Riau|Tahun:2020|Jumlah:19.77\\nProvinsi:Riau|Tahun:2021|Jumlah:20.4\\nProvinsi:Riau|Tahun:2022|Jumlah:19.11\\nProvinsi:Riau|Tahun:2023|Jumlah:20.04\\nProvinsi:Riau|Tahun:2024|Jumlah:18.24\\nProvinsi:Kepulauan Riau|Tahun:2015|Jumlah:4.62\\nProvinsi:Kepulauan Riau|Tahun:2016|Jumlah:5.08\\nProvinsi:Kepulauan Riau|Tahun:2017|Jumlah:5.05\\nProvinsi:Kepulauan Riau|Tahun:2018|Jumlah:5.33\\nProvinsi:Kepulauan Riau|Tahun:2019|Jumlah:5.67\\nProvinsi:Kepulauan Riau|Tahun:2020|Jumlah:5.42\\nProvinsi:Kepulauan Riau|Tahun:2021|Jumlah:6.45\\nProvinsi:Kepulauan Riau|Tahun:2022|Jumlah:7.31\\nProvinsi:Kepulauan Riau|Tahun:2023|Jumlah:8.64\\nProvinsi:Kepulauan Riau|Tahun:2024|Jumlah:10.09\\nProvinsi:Jambi|Tahun:2015|Jumlah:13.91\\nProvinsi:Jambi|Tahun:2016|Jumlah:12.88\\nProvinsi:Jambi|Tahun:2017|Jumlah:12.35\\nProvinsi:Jambi|Tahun:2018|Jumlah:11.29\\nProvinsi:Jambi|Tahun:2019|Jumlah:11.26\\nProvinsi:Jambi|Tahun:2020|Jumlah:11.45\\nProvinsi:Jambi|Tahun:2021|Jumlah:11.23\\nProvinsi:Jambi|Tahun:2022|Jumlah:12.9\\nProvinsi:Jambi|Tahun:2023|Jumlah:12.99\\nProvinsi:Jambi|Tahun:2024|Jumlah:12.79\\nProvinsi:Sumatera Selatan|Tahun:2015|Jumlah:2.97\\nProvinsi:Sumatera Selatan|Tahun:2016|Jumlah:3.39\\nProvinsi:Sumatera Selatan|Tahun:2017|Jumlah:3.13\\nProvinsi:Sumatera Selatan|Tahun:2018|Jumlah:3.74\\nProvinsi:Sumatera Selatan|Tahun:2019|Jumlah:4.23\\nProvinsi:Sumatera Selatan|Tahun:2020|Jumlah:4.06\\nProvinsi:Sumatera Selatan|Tahun:2021|Jumlah:3.66\\nProvinsi:Sumatera Selatan|Tahun:2022|Jumlah:4.19\\nProvinsi:Sumatera Selatan|Tahun:2023|Jumlah:4.66\\nProvinsi:Sumatera Selatan|Tahun:2024|Jumlah:5.22\\nProvinsi:Bangka Belitung|Tahun:2015|Jumlah:2.04\\nProvinsi:Bangka Belitung|Tahun:2016|Jumlah:2.05\\nProvinsi:Bangka Belitung|Tahun:2017|Jumlah:1.92\\nProvinsi:Bangka Belitung|Tahun:2018|Jumlah:2.22\\nProvinsi:Bangka Belitung|Tahun:2019|Jumlah:2.42\\nProvinsi:Bangka Belitung|Tahun:2020|Jumlah:2.41\\nProvinsi:Bangka Belitung|Tahun:2021|Jumlah:2.22\\nProvinsi:Bangka Belitung|Tahun:2022|Jumlah:2.2\\nProvinsi:Bangka Belitung|Tahun:2023|Jumlah:2.2\\nProvinsi:Bangka Belitung|Tahun:2024|Jumlah:2.46\\nProvinsi:Bengkulu|Tahun:2015|Jumlah:13.42\\nProvinsi:Bengkulu|Tahun:2016|Jumlah:13.98\\nProvinsi:Bengkulu|Tahun:2017|Jumlah:13.08\\nProvinsi:Bengkulu|Tahun:2018|Jumlah:14.57\\nProvinsi:Bengkulu|Tahun:2019|Jumlah:16.44\\nProvinsi:Bengkulu|Tahun:2020|Jumlah:17.57\\nProvinsi:Bengkulu|Tahun:2021|Jumlah:19.87\\nProvinsi:Bengkulu|Tahun:2022|Jumlah:20.83\\nProvinsi:Bengkulu|Tahun:2023|Jumlah:22.02\\nProvinsi:Bengkulu|Tahun:2024|Jumlah:22.64\\nProvinsi:Lampung|Tahun:2015|Jumlah:2.51\\nProvinsi:Lampung|Tahun:2016|Jumlah:2.28\\nProvinsi:Lampung|Tahun:2017|Jumlah:2.49\\nProvinsi:Lampung|Tahun:2018|Jumlah:2.48\\nProvinsi:Lampung|Tahun:2019|Jumlah:2.61\\nProvinsi:Lampung|Tahun:2020|Jumlah:3.06\\nProvinsi:Lampung|Tahun:2021|Jumlah:2.98\\nProvinsi:Lampung|Tahun:2022|Jumlah:3.05\\nProvinsi:Lampung|Tahun:2023|Jumlah:3.43\\nProvinsi:Lampung|Tahun:2024|Jumlah:3.33\\nProvinsi:DKI Jakarta|Tahun:2015|Jumlah:5.06\\nProvinsi:DKI Jakarta|Tahun:2016|Jumlah:4.8\\nProvinsi:DKI Jakarta|Tahun:2017|Jumlah:5.65\\nProvinsi:DKI Jakarta|Tahun:2018|Jumlah:6.46\\nProvinsi:DKI Jakarta|Tahun:2019|Jumlah:7.04\\nProvinsi:DKI Jakarta|Tahun:2020|Jumlah:8.18\\nProvinsi:DKI Jakarta|Tahun:2021|Jumlah:9.33\\nProvinsi:DKI Jakarta|Tahun:2022|Jumlah:8.92\\nProvinsi:DKI Jakarta|Tahun:2023|Jumlah:10.42\\nProvinsi:DKI Jakarta|Tahun:2024|Jumlah:11.06\\nProvinsi:Jawa Barat|Tahun:2015|Jumlah:13.55\\nProvinsi:Jawa Barat|Tahun:2016|Jumlah:13.48\\nProvinsi:Jawa Barat|Tahun:2017|Jumlah:12.58\\nProvinsi:Jawa Barat|Tahun:2018|Jumlah:12.18\\nProvinsi:Jawa Barat|Tahun:2019|Jumlah:12.52\\nProvinsi:Jawa Barat|Tahun:2020|Jumlah:14.35\\nProvinsi:Jawa Barat|Tahun:2021|Jumlah:16.62\\nProvinsi:Jawa Barat|Tahun:2022|Jumlah:14.99\\nProvinsi:Jawa Barat|Tahun:2023|Jumlah:15.79\\nProvinsi:Jawa Barat|Tahun:2024|Jumlah:16.18\\nProvinsi:Banten|Tahun:2015|Jumlah:2.68\\nProvinsi:Banten|Tahun:2016|Jumlah:2.68\\nProvinsi:Banten|Tahun:2017|Jumlah:3.17\\nProvinsi:Banten|Tahun:2018|Jumlah:3.16\\nProvinsi:Banten|Tahun:2019|Jumlah:3.34\\nProvinsi:Banten|Tahun:2020|Jumlah:3.71\\nProvinsi:Banten|Tahun:2021|Jumlah:3.74\\nProvinsi:Banten|Tahun:2022|Jumlah:4.46\\nProvinsi:Banten|Tahun:2023|Jumlah:5.3\\nProvinsi:Banten|Tahun:2024|Jumlah:5.17\\nProvinsi:Jawa Tengah|Tahun:2015|Jumlah:5.21\\nProvinsi:Jawa Tengah|Tahun:2016|Jumlah:5.14\\nProvinsi:Jawa Tengah|Tahun:2017|Jumlah:4.68\\nProvinsi:Jawa Tengah|Tahun:2018|Jumlah:5.07\\nProvinsi:Jawa Tengah|Tahun:2019|Jumlah:5.32\\nProvinsi:Jawa Tengah|Tahun:2020|Jumlah:4.87\\nProvinsi:Jawa Tengah|Tahun:2021|Jumlah:4.79\\nProvinsi:Jawa Tengah|Tahun:2022|Jumlah:5.62\\nProvinsi:Jawa Tengah|Tahun:2023|Jumlah:5.46\\nProvinsi:Jawa Tengah|Tahun:2024|Jumlah:5.15\\nProvinsi:DI Yogyakarta|Tahun:2015|Jumlah:14.8\\nProvinsi:DI Yogyakarta|Tahun:2016|Jumlah:14.39\\nProvinsi:DI Yogyakarta|Tahun:2017|Jumlah:15.86\\nProvinsi:DI Yogyakarta|Tahun:2018|Jumlah:17.89\\nProvinsi:DI Yogyakarta|Tahun:2019|Jumlah:17.38\\nProvinsi:DI Yogyakarta|Tahun:2020|Jumlah:19.44\\nProvinsi:DI Yogyakarta|Tahun:2021|Jumlah:19.64\\nProvinsi:DI Yogyakarta|Tahun:2022|Jumlah:21.4\\nProvinsi:DI Yogyakarta|Tahun:2023|Jumlah:23.33\\nProvinsi:DI Yogyakarta|Tahun:2024|Jumlah:24.75\\nProvinsi:Jawa Timur|Tahun:2015|Jumlah:12.69\\nProvinsi:Jawa Timur|Tahun:2016|Jumlah:12.65\\nProvinsi:Jawa Timur|Tahun:2017|Jumlah:12.09\\nProvinsi:Jawa Timur|Tahun:2018|Jumlah:11.03\\nProvinsi:Jawa Timur|Tahun:2019|Jumlah:11.88\\nProvinsi:Jawa Timur|Tahun:2020|Jumlah:13.11\\nProvinsi:Jawa Timur|Tahun:2021|Jumlah:11.86\\nProvinsi:Jawa Timur|Tahun:2022|Jumlah:12.5\\nProvinsi:Jawa Timur|Tahun:2023|Jumlah:12.1\\nProvinsi:Jawa Timur|Tahun:2024|Jumlah:13.23\\nProvinsi:Bali|Tahun:2015|Jumlah:10.67\\nProvinsi:Bali|Tahun:2016|Jumlah:10.84\\nProvinsi:Bali|Tahun:2017|Jumlah:12.81\\nProvinsi:Bali|Tahun:2018|Jumlah:12.05\\nProvinsi:Bali|Tahun:2019|Jumlah:12.08\\nProvinsi:Bali|Tahun:2020|Jumlah:11.29\\nProvinsi:Bali|Tahun:2021|Jumlah:13.29\\nProvinsi:Bali|Tahun:2022|Jumlah:15.46\\nProvinsi:Bali|Tahun:2023|Jumlah:15.11\\nProvinsi:Bali|Tahun:2024|Jumlah:16.59\\nProvinsi:Nusa Tenggara Barat|Tahun:2015|Jumlah:8.77\\nProvinsi:Nusa Tenggara Barat|Tahun:2016|Jumlah:9.29\\nProvinsi:Nusa Tenggara Barat|Tahun:2017|Jumlah:9.03\\nProvinsi:Nusa Tenggara Barat|Tahun:2018|Jumlah:8.38\\nProvinsi:Nusa Tenggara Barat|Tahun:2019|Jumlah:9.8\\nProvinsi:Nusa Tenggara Barat|Tahun:2020|Jumlah:11.47\\nProvinsi:Nusa Tenggara Barat|Tahun:2021|Jumlah:12.5\\nProvinsi:Nusa Tenggara Barat|Tahun:2022|Jumlah:12.52\\nProvinsi:Nusa Tenggara Barat|Tahun:2023|Jumlah:12.58\\nProvinsi:Nusa Tenggara Barat|Tahun:2024|Jumlah:14.06\\nProvinsi:Nusa Tenggara Timur|Tahun:2015|Jumlah:13.42\\nProvinsi:Nusa Tenggara Timur|Tahun:2016|Jumlah:15.22\\nProvinsi:Nusa Tenggara Timur|Tahun:2017|Jumlah:16.63\\nProvinsi:Nusa Tenggara Timur|Tahun:2018|Jumlah:15.38\\nProvinsi:Nusa Tenggara Timur|Tahun:2019|Jumlah:14.59\\nProvinsi:Nusa Tenggara Timur|Tahun:2020|Jumlah:17.06\\nProvinsi:Nusa Tenggara Timur|Tahun:2021|Jumlah:18.46\\nProvinsi:Nusa Tenggara Timur|Tahun:2022|Jumlah:16.67\\nProvinsi:Nusa Tenggara Timur|Tahun:2023|Jumlah:15.51\\nProvinsi:Nusa Tenggara Timur|Tahun:2024|Jumlah:17.04\\nProvinsi:Kalimantan Barat|Tahun:2015|Jumlah:3.25\\nProvinsi:Kalimantan Barat|Tahun:2016|Jumlah:3.46\\nProvinsi:Kalimantan Barat|Tahun:2017|Jumlah:3.83\\nProvinsi:Kalimantan Barat|Tahun:2018|Jumlah:4.2\\nProvinsi:Kalimantan Barat|Tahun:2019|Jumlah:4.06\\nProvinsi:Kalimantan Barat|Tahun:2020|Jumlah:4.52\\nProvinsi:Kalimantan Barat|Tahun:2021|Jumlah:4.39\\nProvinsi:Kalimantan Barat|Tahun:2022|Jumlah:4.38\\nProvinsi:Kalimantan Barat|Tahun:2023|Jumlah:4.93\\nProvinsi:Kalimantan Barat|Tahun:2024|Jumlah:5.39\\nProvinsi:Kalimantan Tengah|Tahun:2015|Jumlah:10.21\\nProvinsi:Kalimantan Tengah|Tahun:2016|Jumlah:10.93\\nProvinsi:Kalimantan Tengah|Tahun:2017|Jumlah:10.14\\nProvinsi:Kalimantan Tengah|Tahun:2018|Jumlah:10.25\\nProvinsi:Kalimantan Tengah|Tahun:2019|Jumlah:10.04\\nProvinsi:Kalimantan Tengah|Tahun:2020|Jumlah:9.77\\nProvinsi:Kalimantan Tengah|Tahun:2021|Jumlah:11.64\\nProvinsi:Kalimantan Tengah|Tahun:2022|Jumlah:11.85\\nProvinsi:Kalimantan Tengah|Tahun:2023|Jumlah:13.84\\nProvinsi:Kalimantan Tengah|Tahun:2024|Jumlah:15.07\\nProvinsi:Kalimantan Selatan|Tahun:2015|Jumlah:8.04\\nProvinsi:Kalimantan Selatan|Tahun:2016|Jumlah:8.62\\nProvinsi:Kalimantan Selatan|Tahun:2017|Jumlah:9.04\\nProvinsi:Kalimantan Selatan|Tahun:2018|Jumlah:8.66\\nProvinsi:Kalimantan Selatan|Tahun:2019|Jumlah:9.67\\nProvinsi:Kalimantan Selatan|Tahun:2020|Jumlah:9.52\\nProvinsi:Kalimantan Selatan|Tahun:2021|Jumlah:8.64\\nProvinsi:Kalimantan Selatan|Tahun:2022|Jumlah:9.45\\nProvinsi:Kalimantan Selatan|Tahun:2023|Jumlah:9.0\\nProvinsi:Kalimantan Selatan|Tahun:2024|Jumlah:10.64\\nProvinsi:Kalimantan Timur|Tahun:2015|Jumlah:13.81\\nProvinsi:Kalimantan Timur|Tahun:2016|Jumlah:13.96\\nProvinsi:Kalimantan Timur|Tahun:2017|Jumlah:12.63\\nProvinsi:Kalimantan Timur|Tahun:2018|Jumlah:14.88\\nProvinsi:Kalimantan Timur|Tahun:2019|Jumlah:15.31\\nProvinsi:Kalimantan Timur|Tahun:2020|Jumlah:18.22\\nProvinsi:Kalimantan Timur|Tahun:2021|Jumlah:21.66\\nProvinsi:Kalimantan Timur|Tahun:2022|Jumlah:25.04\\nProvinsi:Kalimantan Timur|Tahun:2023|Jumlah:24.74\\nProvinsi:Kalimantan Timur|Tahun:2024|Jumlah:25.13\\nProvinsi:Kalimantan Utara|Tahun:2015|Jumlah:5.44\\nProvinsi:Kalimantan Utara|Tahun:2016|Jumlah:5.17\\nProvinsi:Kalimantan Utara|Tahun:2017|Jumlah:5.52\\nProvinsi:Kalimantan Utara|Tahun:2018|Jumlah:6.51\\nProvinsi:Kalimantan Utara|Tahun:2019|Jumlah:7.22\\nProvinsi:Kalimantan Utara|Tahun:2020|Jumlah:7.74\\nProvinsi:Kalimantan Utara|Tahun:2021|Jumlah:7.19\\nProvinsi:Kalimantan Utara|Tahun:2022|Jumlah:7.79\\nProvinsi:Kalimantan Utara|Tahun:2023|Jumlah:9.33\\nProvinsi:Kalimantan Utara|Tahun:2024|Jumlah:8.79\\nProvinsi:Sulawesi Utara|Tahun:2015|Jumlah:13.28\\nProvinsi:Sulawesi Utara|Tahun:2016|Jumlah:14.91\\nProvinsi:Sulawesi Utara|Tahun:2017|Jumlah:16.53\\nProvinsi:Sulawesi Utara|Tahun:2018|Jumlah:18.36\\nProvinsi:Sulawesi Utara|Tahun:2019|Jumlah:18.51\\nProvinsi:Sulawesi Utara|Tahun:2020|Jumlah:18.29\\nProvinsi:Sulawesi Utara|Tahun:2021|Jumlah:20.9\\nProvinsi:Sulawesi Utara|Tahun:2022|Jumlah:23.89\\nProvinsi:Sulawesi Utara|Tahun:2023|Jumlah:27.71\\nProvinsi:Sulawesi Utara|Tahun:2024|Jumlah:32.54\\nProvinsi:Gorontalo|Tahun:2015|Jumlah:8.02\\nProvinsi:Gorontalo|Tahun:2016|Jumlah:9.14\\nProvinsi:Gorontalo|Tahun:2017|Jumlah:10.01\\nProvinsi:Gorontalo|Tahun:2018|Jumlah:11.12\\nProvinsi:Gorontalo|Tahun:2019|Jumlah:12.66\\nProvinsi:Gorontalo|Tahun:2020|Jumlah:14.77\\nProvinsi:Gorontalo|Tahun:2021|Jumlah:14.79\\nProvinsi:Gorontalo|Tahun:2022|Jumlah:14.98\\nProvinsi:Gorontalo|Tahun:2023|Jumlah:13.9\\nProvinsi:Gorontalo|Tahun:2024|Jumlah:14.93\\nProvinsi:Sulawesi Tengah|Tahun:2015|Jumlah:7.52\\nProvinsi:Sulawesi Tengah|Tahun:2016|Jumlah:7.99\\nProvinsi:Sulawesi Tengah|Tahun:2017|Jumlah:7.88\\nProvinsi:Sulawesi Tengah|Tahun:2018|Jumlah:8.49\\nProvinsi:Sulawesi Tengah|Tahun:2019|Jumlah:7.72\\nProvinsi:Sulawesi Tengah|Tahun:2020|Jumlah:7.03\\nProvinsi:Sulawesi Tengah|Tahun:2021|Jumlah:8.06\\nProvinsi:Sulawesi Tengah|Tahun:2022|Jumlah:8.13\\nProvinsi:Sulawesi Tengah|Tahun:2023|Jumlah:7.62\\nProvinsi:Sulawesi Tengah|Tahun:2024|Jumlah:8.06\\nProvinsi:Sulawesi Barat|Tahun:2015|Jumlah:4.02\\nProvinsi:Sulawesi Barat|Tahun:2016|Jumlah:4.37\\nProvinsi:Sulawesi Barat|Tahun:2017|Jumlah:4.05\\nProvinsi:Sulawesi Barat|Tahun:2018|Jumlah:3.7\\nProvinsi:Sulawesi Barat|Tahun:2019|Jumlah:3.92\\nProvinsi:Sulawesi Barat|Tahun:2020|Jumlah:4.17\\nProvinsi:Sulawesi Barat|Tahun:2021|Jumlah:4.55\\nProvinsi:Sulawesi Barat|Tahun:2022|Jumlah:5.08\\nProvinsi:Sulawesi Barat|Tahun:2023|Jumlah:6.06\\nProvinsi:Sulawesi Barat|Tahun:2024|Jumlah:6.4\\nProvinsi:Sulawesi Selatan|Tahun:2015|Jumlah:12.13\\nProvinsi:Sulawesi Selatan|Tahun:2016|Jumlah:11.91\\nProvinsi:Sulawesi Selatan|Tahun:2017|Jumlah:12.28\\nProvinsi:Sulawesi Selatan|Tahun:2018|Jumlah:11.34\\nProvinsi:Sulawesi Selatan|Tahun:2019|Jumlah:10.3\\nProvinsi:Sulawesi Selatan|Tahun:2020|Jumlah:12.24\\nProvinsi:Sulawesi Selatan|Tahun:2021|Jumlah:14.08\\nProvinsi:Sulawesi Selatan|Tahun:2022|Jumlah:15.62\\nProvinsi:Sulawesi Selatan|Tahun:2023|Jumlah:15.97\\nProvinsi:Sulawesi Selatan|Tahun:2024|Jumlah:15.2\\nProvinsi:Sulawesi Tenggara|Tahun:2015|Jumlah:4.5\\nProvinsi:Sulawesi Tenggara|Tahun:2016|Jumlah:4.8\\nProvinsi:Sulawesi Tenggara|Tahun:2017|Jumlah:5.34\\nProvinsi:Sulawesi Tenggara|Tahun:2018|Jumlah:5.87\\nProvinsi:Sulawesi Tenggara|Tahun:2019|Jumlah:5.77\\nProvinsi:Sulawesi Tenggara|Tahun:2020|Jumlah:6.85\\nProvinsi:Sulawesi Tenggara|Tahun:2021|Jumlah:7.68\\nProvinsi:Sulawesi Tenggara|Tahun:2022|Jumlah:8.19\\nProvinsi:Sulawesi Tenggara|Tahun:2023|Jumlah:8.87\\nProvinsi:Sulawesi Tenggara|Tahun:2024|Jumlah:9.1\\nProvinsi:Maluku|Tahun:2015|Jumlah:5.98\\nProvinsi:Maluku|Tahun:2016|Jumlah:6.75\\nProvinsi:Maluku|Tahun:2017|Jumlah:6.1\\nProvinsi:Maluku|Tahun:2018|Jumlah:5.7\\nProvinsi:Maluku|Tahun:2019|Jumlah:5.21\\nProvinsi:Maluku|Tahun:2020|Jumlah:4.75\\nProvinsi:Maluku|Tahun:2021|Jumlah:5.5\\nProvinsi:Maluku|Tahun:2022|Jumlah:6.11\\nProvinsi:Maluku|Tahun:2023|Jumlah:6.37\\nProvinsi:Maluku|Tahun:2024|Jumlah:5.92\\nProvinsi:Maluku Utara|Tahun:2015|Jumlah:7.63\\nProvinsi:Maluku Utara|Tahun:2016|Jumlah:7.26\\nProvinsi:Maluku Utara|Tahun:2017|Jumlah:7.48\\nProvinsi:Maluku Utara|Tahun:2018|Jumlah:7.63\\nProvinsi:Maluku Utara|Tahun:2019|Jumlah:8.27\\nProvinsi:Maluku Utara|Tahun:2020|Jumlah:9.02\\nProvinsi:Maluku Utara|Tahun:2021|Jumlah:8.24\\nProvinsi:Maluku Utara|Tahun:2022|Jumlah:8.35\\nProvinsi:Maluku Utara|Tahun:2023|Jumlah:9.08\\nProvinsi:Maluku Utara|Tahun:2024|Jumlah:9.54\\nProvinsi:Papua|Tahun:2015|Jumlah:10.22\\nProvinsi:Papua|Tahun:2016|Jumlah:9.7\\nProvinsi:Papua|Tahun:2017|Jumlah:8.93\\nProvinsi:Papua|Tahun:2018|Jumlah:9.76\\nProvinsi:Papua|Tahun:2019|Jumlah:8.86\\nProvinsi:Papua|Tahun:2020|Jumlah:9.54\\nProvinsi:Papua|Tahun:2021|Jumlah:11.27\\nProvinsi:Papua|Tahun:2022|Jumlah:12.09\\nProvinsi:Papua|Tahun:2023|Jumlah:12.29\\nProvinsi:Papua|Tahun:2024|Jumlah:13.43\\nProvinsi:Papua Barat|Tahun:2015|Jumlah:8.64\\nProvinsi:Papua Barat|Tahun:2016|Jumlah:10.21\\nProvinsi:Papua Barat|Tahun:2017|Jumlah:10.38\\nProvinsi:Papua Barat|Tahun:2018|Jumlah:12.33\\nProvinsi:Papua Barat|Tahun:2019|Jumlah:14.45\\nProvinsi:Papua Barat|Tahun:2020|Jumlah:13.85\\nProvinsi:Papua Barat|Tahun:2021|Jumlah:12.75\\nProvinsi:Papua Barat|Tahun:2022|Jumlah:11.86\\nProvinsi:Papua Barat|Tahun:2023|Jumlah:10.74\\nProvinsi:Papua Barat|Tahun:2024|Jumlah:9.97\\nProvinsi:Papua Pegunungan|Tahun:2015|Jumlah:2.0\\nProvinsi:Papua Pegunungan|Tahun:2016|Jumlah:1.99\\nProvinsi:Papua Pegunungan|Tahun:2017|Jumlah:2.29\\nProvinsi:Papua Pegunungan|Tahun:2018|Jumlah:2.08\\nProvinsi:Papua Pegunungan|Tahun:2019|Jumlah:2.38\\nProvinsi:Papua Pegunungan|Tahun:2020|Jumlah:2.34\\nProvinsi:Papua Pegunungan|Tahun:2021|Jumlah:2.19\\nProvinsi:Papua Pegunungan|Tahun:2022|Jumlah:2.43\\nProvinsi:Papua Pegunungan|Tahun:2023|Jumlah:2.65\\nProvinsi:Papua Pegunungan|Tahun:2024|Jumlah:3.08\\nProvinsi:Papua Tengah|Tahun:2015|Jumlah:12.25\\nProvinsi:Papua Tengah|Tahun:2016|Jumlah:12.06\\nProvinsi:Papua Tengah|Tahun:2017|Jumlah:11.5\\nProvinsi:Papua Tengah|Tahun:2018|Jumlah:12.94\\nProvinsi:Papua Tengah|Tahun:2019|Jumlah:14.77\\nProvinsi:Papua Tengah|Tahun:2020|Jumlah:17.69\\nProvinsi:Papua Tengah|Tahun:2021|Jumlah:18.11\\nProvinsi:Papua Tengah|Tahun:2022|Jumlah:18.32\\nProvinsi:Papua Tengah|Tahun:2023|Jumlah:20.75\\nProvinsi:Papua Tengah|Tahun:2024|Jumlah:20.8\\nProvinsi:Papua Selatan|Tahun:2015|Jumlah:13.02\\nProvinsi:Papua Selatan|Tahun:2016|Jumlah:13.39\\nProvinsi:Papua Selatan|Tahun:2017|Jumlah:15.07\\nProvinsi:Papua Selatan|Tahun:2018|Jumlah:16.97\\nProvinsi:Papua Selatan|Tahun:2019|Jumlah:15.8\\nProvinsi:Papua Selatan|Tahun:2020|Jumlah:18.5\\nProvinsi:Papua Selatan|Tahun:2021|Jumlah:19.45\\nProvinsi:Papua Selatan|Tahun:2022|Jumlah:22.33\\nProvinsi:Papua Selatan|Tahun:2023|Jumlah:22.24\\nProvinsi:Papua Selatan|Tahun:2024|Jumlah:25.99\\nProvinsi:Papua Barat Daya|Tahun:2015|Jumlah:1.15\\nProvinsi:Papua Barat Daya|Tahun:2016|Jumlah:1.35\\nProvinsi:Papua Barat Daya|Tahun:2017|Jumlah:1.25\\nProvinsi:Papua Barat Daya|Tahun:2018|Jumlah:1.25\\nProvinsi:Papua Barat Daya|Tahun:2019|Jumlah:1.48\\nProvinsi:Papua Barat Daya|Tahun:2020|Jumlah:1.75\\nProvinsi:Papua Barat Daya|Tahun:2021|Jumlah:1.88\\nProvinsi:Papua Barat Daya|Tahun:2022|Jumlah:2.04\\nProvinsi:Papua Barat Daya|Tahun:2023|Jumlah:2.11\\nProvinsi:Papua Barat Daya|Tahun:2024|Jumlah:2.09'"
      ]
     },
     "execution_count": 15,
     "metadata": {},
     "output_type": "execute_result"
    }
   ],
   "source": [
    "data_string"
   ]
  }
 ],
 "metadata": {
  "kernelspec": {
   "display_name": "Python 3",
   "language": "python",
   "name": "python3"
  },
  "language_info": {
   "codemirror_mode": {
    "name": "ipython",
    "version": 3
   },
   "file_extension": ".py",
   "mimetype": "text/x-python",
   "name": "python",
   "nbconvert_exporter": "python",
   "pygments_lexer": "ipython3",
   "version": "3.10.0"
  }
 },
 "nbformat": 4,
 "nbformat_minor": 2
}
